{
  "cells": [
    {
      "cell_type": "markdown",
      "source": [
        "> Dataset:\n",
        "https://www.kaggle.com/competitions/home-data-for-ml-course/data\n",
        "\n",
        "> Train & test dataset: https://drive.google.com/file/d/1FYrVFjMT1BOfvlsVy_CdSm_Ivw9DkCFD/view?usp=sharing\n",
        "\n",
        "> Validation dataset: https://drive.google.com/file/d/1-OG69sSMLiM3kfAAHzFA8qxl74X9u-mM/view?usp=sharing'"
      ],
      "metadata": {
        "id": "3DDG0wvxOUdZ"
      }
    },
    {
      "cell_type": "markdown",
      "source": [
        "## Moi truong"
      ],
      "metadata": {
        "id": "wXQGf6D8uiNT"
      }
    },
    {
      "cell_type": "code",
      "source": [
        "## Thư viện\n",
        "import imageio\n",
        "import joblib            as jlb\n",
        "import matplotlib.pyplot as plt\n",
        "import numpy             as np\n",
        "import pandas            as pd\n",
        "import pydotplus         as pdp\n",
        "import seaborn           as sbn\n",
        "\n",
        "from sklearn.model_selection import cross_val_score\n",
        "from sklearn.metrics import classification_report\n",
        "from sklearn.ensemble import RandomForestClassifier\n",
        "from sklearn.metrics import accuracy_score, precision_score, recall_score, f1_score, confusion_matrix\n",
        "from sklearn.model_selection import cross_val_predict, KFold\n",
        "from sklearn.model_selection import GridSearchCV, train_test_split\n",
        "from sklearn.preprocessing import StandardScaler, LabelEncoder\n",
        "from sklearn.impute import SimpleImputer\n",
        "from sklearn.decomposition import PCA\n",
        "from sklearn.neighbors import KNeighborsClassifier\n",
        "from scipy.stats import zscore\n",
        "from sklearn.metrics import roc_curve, auc\n",
        "from sklearn.preprocessing import label_binarize\n",
        "from sklearn.multiclass import OneVsRestClassifier\n",
        "\n",
        "link = 'https://drive.google.com/file/d/1FYrVFjMT1BOfvlsVy_CdSm_Ivw9DkCFD/view?usp=sharing'\n",
        "path = 'https://drive.google.com/uc?export=download&id=' + link.split('/')[-2]\n",
        "df = pd.read_csv(path, encoding = 'unicode_escape')\n",
        "# Xoá cột không cần thiết\n",
        "df = df.drop(['Id'], axis=1)\n",
        "df.head()"
      ],
      "metadata": {
        "colab": {
          "base_uri": "https://localhost:8080/"
        },
        "id": "gcs-TvqSfYDS",
        "outputId": "50a02796-aa75-4de5-87f3-bf928ead195f"
      },
      "execution_count": null,
      "outputs": [
        {
          "output_type": "execute_result",
          "data": {
            "text/plain": [
              "   MSSubClass MSZoning  LotFrontage  LotArea Street Alley LotShape  \\\n",
              "0          60       RL         65.0     8450   Pave   NaN      Reg   \n",
              "1          20       RL         80.0     9600   Pave   NaN      Reg   \n",
              "2          60       RL         68.0    11250   Pave   NaN      IR1   \n",
              "3          70       RL         60.0     9550   Pave   NaN      IR1   \n",
              "4          60       RL         84.0    14260   Pave   NaN      IR1   \n",
              "\n",
              "  LandContour Utilities LotConfig  ... PoolArea PoolQC Fence MiscFeature  \\\n",
              "0         Lvl    AllPub    Inside  ...        0    NaN   NaN         NaN   \n",
              "1         Lvl    AllPub       FR2  ...        0    NaN   NaN         NaN   \n",
              "2         Lvl    AllPub    Inside  ...        0    NaN   NaN         NaN   \n",
              "3         Lvl    AllPub    Corner  ...        0    NaN   NaN         NaN   \n",
              "4         Lvl    AllPub       FR2  ...        0    NaN   NaN         NaN   \n",
              "\n",
              "  MiscVal MoSold  YrSold  SaleType  SaleCondition  SalePrice  \n",
              "0       0      2    2008        WD         Normal     208500  \n",
              "1       0      5    2007        WD         Normal     181500  \n",
              "2       0      9    2008        WD         Normal     223500  \n",
              "3       0      2    2006        WD        Abnorml     140000  \n",
              "4       0     12    2008        WD         Normal     250000  \n",
              "\n",
              "[5 rows x 80 columns]"
            ],
            "text/html": [
              "\n",
              "  <div id=\"df-03f1855c-2ec4-4a90-afcd-df54adc33766\" class=\"colab-df-container\">\n",
              "    <div>\n",
              "<style scoped>\n",
              "    .dataframe tbody tr th:only-of-type {\n",
              "        vertical-align: middle;\n",
              "    }\n",
              "\n",
              "    .dataframe tbody tr th {\n",
              "        vertical-align: top;\n",
              "    }\n",
              "\n",
              "    .dataframe thead th {\n",
              "        text-align: right;\n",
              "    }\n",
              "</style>\n",
              "<table border=\"1\" class=\"dataframe\">\n",
              "  <thead>\n",
              "    <tr style=\"text-align: right;\">\n",
              "      <th></th>\n",
              "      <th>MSSubClass</th>\n",
              "      <th>MSZoning</th>\n",
              "      <th>LotFrontage</th>\n",
              "      <th>LotArea</th>\n",
              "      <th>Street</th>\n",
              "      <th>Alley</th>\n",
              "      <th>LotShape</th>\n",
              "      <th>LandContour</th>\n",
              "      <th>Utilities</th>\n",
              "      <th>LotConfig</th>\n",
              "      <th>...</th>\n",
              "      <th>PoolArea</th>\n",
              "      <th>PoolQC</th>\n",
              "      <th>Fence</th>\n",
              "      <th>MiscFeature</th>\n",
              "      <th>MiscVal</th>\n",
              "      <th>MoSold</th>\n",
              "      <th>YrSold</th>\n",
              "      <th>SaleType</th>\n",
              "      <th>SaleCondition</th>\n",
              "      <th>SalePrice</th>\n",
              "    </tr>\n",
              "  </thead>\n",
              "  <tbody>\n",
              "    <tr>\n",
              "      <th>0</th>\n",
              "      <td>60</td>\n",
              "      <td>RL</td>\n",
              "      <td>65.0</td>\n",
              "      <td>8450</td>\n",
              "      <td>Pave</td>\n",
              "      <td>NaN</td>\n",
              "      <td>Reg</td>\n",
              "      <td>Lvl</td>\n",
              "      <td>AllPub</td>\n",
              "      <td>Inside</td>\n",
              "      <td>...</td>\n",
              "      <td>0</td>\n",
              "      <td>NaN</td>\n",
              "      <td>NaN</td>\n",
              "      <td>NaN</td>\n",
              "      <td>0</td>\n",
              "      <td>2</td>\n",
              "      <td>2008</td>\n",
              "      <td>WD</td>\n",
              "      <td>Normal</td>\n",
              "      <td>208500</td>\n",
              "    </tr>\n",
              "    <tr>\n",
              "      <th>1</th>\n",
              "      <td>20</td>\n",
              "      <td>RL</td>\n",
              "      <td>80.0</td>\n",
              "      <td>9600</td>\n",
              "      <td>Pave</td>\n",
              "      <td>NaN</td>\n",
              "      <td>Reg</td>\n",
              "      <td>Lvl</td>\n",
              "      <td>AllPub</td>\n",
              "      <td>FR2</td>\n",
              "      <td>...</td>\n",
              "      <td>0</td>\n",
              "      <td>NaN</td>\n",
              "      <td>NaN</td>\n",
              "      <td>NaN</td>\n",
              "      <td>0</td>\n",
              "      <td>5</td>\n",
              "      <td>2007</td>\n",
              "      <td>WD</td>\n",
              "      <td>Normal</td>\n",
              "      <td>181500</td>\n",
              "    </tr>\n",
              "    <tr>\n",
              "      <th>2</th>\n",
              "      <td>60</td>\n",
              "      <td>RL</td>\n",
              "      <td>68.0</td>\n",
              "      <td>11250</td>\n",
              "      <td>Pave</td>\n",
              "      <td>NaN</td>\n",
              "      <td>IR1</td>\n",
              "      <td>Lvl</td>\n",
              "      <td>AllPub</td>\n",
              "      <td>Inside</td>\n",
              "      <td>...</td>\n",
              "      <td>0</td>\n",
              "      <td>NaN</td>\n",
              "      <td>NaN</td>\n",
              "      <td>NaN</td>\n",
              "      <td>0</td>\n",
              "      <td>9</td>\n",
              "      <td>2008</td>\n",
              "      <td>WD</td>\n",
              "      <td>Normal</td>\n",
              "      <td>223500</td>\n",
              "    </tr>\n",
              "    <tr>\n",
              "      <th>3</th>\n",
              "      <td>70</td>\n",
              "      <td>RL</td>\n",
              "      <td>60.0</td>\n",
              "      <td>9550</td>\n",
              "      <td>Pave</td>\n",
              "      <td>NaN</td>\n",
              "      <td>IR1</td>\n",
              "      <td>Lvl</td>\n",
              "      <td>AllPub</td>\n",
              "      <td>Corner</td>\n",
              "      <td>...</td>\n",
              "      <td>0</td>\n",
              "      <td>NaN</td>\n",
              "      <td>NaN</td>\n",
              "      <td>NaN</td>\n",
              "      <td>0</td>\n",
              "      <td>2</td>\n",
              "      <td>2006</td>\n",
              "      <td>WD</td>\n",
              "      <td>Abnorml</td>\n",
              "      <td>140000</td>\n",
              "    </tr>\n",
              "    <tr>\n",
              "      <th>4</th>\n",
              "      <td>60</td>\n",
              "      <td>RL</td>\n",
              "      <td>84.0</td>\n",
              "      <td>14260</td>\n",
              "      <td>Pave</td>\n",
              "      <td>NaN</td>\n",
              "      <td>IR1</td>\n",
              "      <td>Lvl</td>\n",
              "      <td>AllPub</td>\n",
              "      <td>FR2</td>\n",
              "      <td>...</td>\n",
              "      <td>0</td>\n",
              "      <td>NaN</td>\n",
              "      <td>NaN</td>\n",
              "      <td>NaN</td>\n",
              "      <td>0</td>\n",
              "      <td>12</td>\n",
              "      <td>2008</td>\n",
              "      <td>WD</td>\n",
              "      <td>Normal</td>\n",
              "      <td>250000</td>\n",
              "    </tr>\n",
              "  </tbody>\n",
              "</table>\n",
              "<p>5 rows × 80 columns</p>\n",
              "</div>\n",
              "    <div class=\"colab-df-buttons\">\n",
              "\n",
              "  <div class=\"colab-df-container\">\n",
              "    <button class=\"colab-df-convert\" onclick=\"convertToInteractive('df-03f1855c-2ec4-4a90-afcd-df54adc33766')\"\n",
              "            title=\"Convert this dataframe to an interactive table.\"\n",
              "            style=\"display:none;\">\n",
              "\n",
              "  <svg xmlns=\"http://www.w3.org/2000/svg\" height=\"24px\" viewBox=\"0 -960 960 960\">\n",
              "    <path d=\"M120-120v-720h720v720H120Zm60-500h600v-160H180v160Zm220 220h160v-160H400v160Zm0 220h160v-160H400v160ZM180-400h160v-160H180v160Zm440 0h160v-160H620v160ZM180-180h160v-160H180v160Zm440 0h160v-160H620v160Z\"/>\n",
              "  </svg>\n",
              "    </button>\n",
              "\n",
              "  <style>\n",
              "    .colab-df-container {\n",
              "      display:flex;\n",
              "      gap: 12px;\n",
              "    }\n",
              "\n",
              "    .colab-df-convert {\n",
              "      background-color: #E8F0FE;\n",
              "      border: none;\n",
              "      border-radius: 50%;\n",
              "      cursor: pointer;\n",
              "      display: none;\n",
              "      fill: #1967D2;\n",
              "      height: 32px;\n",
              "      padding: 0 0 0 0;\n",
              "      width: 32px;\n",
              "    }\n",
              "\n",
              "    .colab-df-convert:hover {\n",
              "      background-color: #E2EBFA;\n",
              "      box-shadow: 0px 1px 2px rgba(60, 64, 67, 0.3), 0px 1px 3px 1px rgba(60, 64, 67, 0.15);\n",
              "      fill: #174EA6;\n",
              "    }\n",
              "\n",
              "    .colab-df-buttons div {\n",
              "      margin-bottom: 4px;\n",
              "    }\n",
              "\n",
              "    [theme=dark] .colab-df-convert {\n",
              "      background-color: #3B4455;\n",
              "      fill: #D2E3FC;\n",
              "    }\n",
              "\n",
              "    [theme=dark] .colab-df-convert:hover {\n",
              "      background-color: #434B5C;\n",
              "      box-shadow: 0px 1px 3px 1px rgba(0, 0, 0, 0.15);\n",
              "      filter: drop-shadow(0px 1px 2px rgba(0, 0, 0, 0.3));\n",
              "      fill: #FFFFFF;\n",
              "    }\n",
              "  </style>\n",
              "\n",
              "    <script>\n",
              "      const buttonEl =\n",
              "        document.querySelector('#df-03f1855c-2ec4-4a90-afcd-df54adc33766 button.colab-df-convert');\n",
              "      buttonEl.style.display =\n",
              "        google.colab.kernel.accessAllowed ? 'block' : 'none';\n",
              "\n",
              "      async function convertToInteractive(key) {\n",
              "        const element = document.querySelector('#df-03f1855c-2ec4-4a90-afcd-df54adc33766');\n",
              "        const dataTable =\n",
              "          await google.colab.kernel.invokeFunction('convertToInteractive',\n",
              "                                                    [key], {});\n",
              "        if (!dataTable) return;\n",
              "\n",
              "        const docLinkHtml = 'Like what you see? Visit the ' +\n",
              "          '<a target=\"_blank\" href=https://colab.research.google.com/notebooks/data_table.ipynb>data table notebook</a>'\n",
              "          + ' to learn more about interactive tables.';\n",
              "        element.innerHTML = '';\n",
              "        dataTable['output_type'] = 'display_data';\n",
              "        await google.colab.output.renderOutput(dataTable, element);\n",
              "        const docLink = document.createElement('div');\n",
              "        docLink.innerHTML = docLinkHtml;\n",
              "        element.appendChild(docLink);\n",
              "      }\n",
              "    </script>\n",
              "  </div>\n",
              "\n",
              "\n",
              "<div id=\"df-36b9f540-2cb5-43a4-8088-073162f78ea8\">\n",
              "  <button class=\"colab-df-quickchart\" onclick=\"quickchart('df-36b9f540-2cb5-43a4-8088-073162f78ea8')\"\n",
              "            title=\"Suggest charts\"\n",
              "            style=\"display:none;\">\n",
              "\n",
              "<svg xmlns=\"http://www.w3.org/2000/svg\" height=\"24px\"viewBox=\"0 0 24 24\"\n",
              "     width=\"24px\">\n",
              "    <g>\n",
              "        <path d=\"M19 3H5c-1.1 0-2 .9-2 2v14c0 1.1.9 2 2 2h14c1.1 0 2-.9 2-2V5c0-1.1-.9-2-2-2zM9 17H7v-7h2v7zm4 0h-2V7h2v10zm4 0h-2v-4h2v4z\"/>\n",
              "    </g>\n",
              "</svg>\n",
              "  </button>\n",
              "\n",
              "<style>\n",
              "  .colab-df-quickchart {\n",
              "      --bg-color: #E8F0FE;\n",
              "      --fill-color: #1967D2;\n",
              "      --hover-bg-color: #E2EBFA;\n",
              "      --hover-fill-color: #174EA6;\n",
              "      --disabled-fill-color: #AAA;\n",
              "      --disabled-bg-color: #DDD;\n",
              "  }\n",
              "\n",
              "  [theme=dark] .colab-df-quickchart {\n",
              "      --bg-color: #3B4455;\n",
              "      --fill-color: #D2E3FC;\n",
              "      --hover-bg-color: #434B5C;\n",
              "      --hover-fill-color: #FFFFFF;\n",
              "      --disabled-bg-color: #3B4455;\n",
              "      --disabled-fill-color: #666;\n",
              "  }\n",
              "\n",
              "  .colab-df-quickchart {\n",
              "    background-color: var(--bg-color);\n",
              "    border: none;\n",
              "    border-radius: 50%;\n",
              "    cursor: pointer;\n",
              "    display: none;\n",
              "    fill: var(--fill-color);\n",
              "    height: 32px;\n",
              "    padding: 0;\n",
              "    width: 32px;\n",
              "  }\n",
              "\n",
              "  .colab-df-quickchart:hover {\n",
              "    background-color: var(--hover-bg-color);\n",
              "    box-shadow: 0 1px 2px rgba(60, 64, 67, 0.3), 0 1px 3px 1px rgba(60, 64, 67, 0.15);\n",
              "    fill: var(--button-hover-fill-color);\n",
              "  }\n",
              "\n",
              "  .colab-df-quickchart-complete:disabled,\n",
              "  .colab-df-quickchart-complete:disabled:hover {\n",
              "    background-color: var(--disabled-bg-color);\n",
              "    fill: var(--disabled-fill-color);\n",
              "    box-shadow: none;\n",
              "  }\n",
              "\n",
              "  .colab-df-spinner {\n",
              "    border: 2px solid var(--fill-color);\n",
              "    border-color: transparent;\n",
              "    border-bottom-color: var(--fill-color);\n",
              "    animation:\n",
              "      spin 1s steps(1) infinite;\n",
              "  }\n",
              "\n",
              "  @keyframes spin {\n",
              "    0% {\n",
              "      border-color: transparent;\n",
              "      border-bottom-color: var(--fill-color);\n",
              "      border-left-color: var(--fill-color);\n",
              "    }\n",
              "    20% {\n",
              "      border-color: transparent;\n",
              "      border-left-color: var(--fill-color);\n",
              "      border-top-color: var(--fill-color);\n",
              "    }\n",
              "    30% {\n",
              "      border-color: transparent;\n",
              "      border-left-color: var(--fill-color);\n",
              "      border-top-color: var(--fill-color);\n",
              "      border-right-color: var(--fill-color);\n",
              "    }\n",
              "    40% {\n",
              "      border-color: transparent;\n",
              "      border-right-color: var(--fill-color);\n",
              "      border-top-color: var(--fill-color);\n",
              "    }\n",
              "    60% {\n",
              "      border-color: transparent;\n",
              "      border-right-color: var(--fill-color);\n",
              "    }\n",
              "    80% {\n",
              "      border-color: transparent;\n",
              "      border-right-color: var(--fill-color);\n",
              "      border-bottom-color: var(--fill-color);\n",
              "    }\n",
              "    90% {\n",
              "      border-color: transparent;\n",
              "      border-bottom-color: var(--fill-color);\n",
              "    }\n",
              "  }\n",
              "</style>\n",
              "\n",
              "  <script>\n",
              "    async function quickchart(key) {\n",
              "      const quickchartButtonEl =\n",
              "        document.querySelector('#' + key + ' button');\n",
              "      quickchartButtonEl.disabled = true;  // To prevent multiple clicks.\n",
              "      quickchartButtonEl.classList.add('colab-df-spinner');\n",
              "      try {\n",
              "        const charts = await google.colab.kernel.invokeFunction(\n",
              "            'suggestCharts', [key], {});\n",
              "      } catch (error) {\n",
              "        console.error('Error during call to suggestCharts:', error);\n",
              "      }\n",
              "      quickchartButtonEl.classList.remove('colab-df-spinner');\n",
              "      quickchartButtonEl.classList.add('colab-df-quickchart-complete');\n",
              "    }\n",
              "    (() => {\n",
              "      let quickchartButtonEl =\n",
              "        document.querySelector('#df-36b9f540-2cb5-43a4-8088-073162f78ea8 button');\n",
              "      quickchartButtonEl.style.display =\n",
              "        google.colab.kernel.accessAllowed ? 'block' : 'none';\n",
              "    })();\n",
              "  </script>\n",
              "</div>\n",
              "\n",
              "    </div>\n",
              "  </div>\n"
            ]
          },
          "metadata": {},
          "execution_count": 1
        }
      ]
    },
    {
      "cell_type": "code",
      "source": [
        "df.hist(figsize=(12, 10))\n",
        "plt.tight_layout()\n",
        "plt.show()"
      ],
      "metadata": {
        "colab": {
          "base_uri": "https://localhost:8080/",
          "height": 746
        },
        "id": "oFGVv59dx0r-",
        "outputId": "2ad8c61f-5449-46ae-b41e-dd72beeeadb3"
      },
      "execution_count": 25,
      "outputs": [
        {
          "output_type": "display_data",
          "data": {
            "text/plain": [
              "<Figure size 1200x1000 with 42 Axes>"
            ],
            "image/png": "[encoded data removed]"
          },
          "metadata": {}
        }
      ]
    },
    {
      "cell_type": "markdown",
      "metadata": {
        "id": "mmZxTKsrPo3e"
      },
      "source": [
        "# RANDOM FOREST TRONG BÀI TOÁN PHÂN LỚP\n"
      ]
    },
    {
      "cell_type": "markdown",
      "metadata": {
        "id": "iDr30WNTZPGl"
      },
      "source": [
        "## Tiền xử lý dữ liệu"
      ]
    },
    {
      "cell_type": "markdown",
      "source": [
        "### DROP missing value COLS"
      ],
      "metadata": {
        "id": "UgORD-kATZMS"
      }
    },
    {
      "cell_type": "code",
      "source": [
        "def miss_percent(df):\n",
        "  missing_sr = df.isna().sum()\n",
        "  missing_sr = missing_sr[missing_sr!=0]\n",
        "  return missing_sr/df.shape[0]*100\n",
        "\n",
        "# Xóa các cột có phần trăm missing values > 80%\n",
        "cols_to_drop= miss_percent(df)[miss_percent(df)>80].index\n",
        "df.drop(columns=cols_to_drop, axis = 1,inplace=True)\n",
        "print(df.shape)\n",
        "\n",
        "miss_percent(df)"
      ],
      "metadata": {
        "id": "IYjq0iBhnJKU",
        "colab": {
          "base_uri": "https://localhost:8080/"
        },
        "outputId": "6ca46b51-e036-4270-bee3-c5cf209c65d6"
      },
      "execution_count": null,
      "outputs": [
        {
          "output_type": "stream",
          "name": "stdout",
          "text": [
            "(1460, 76)\n"
          ]
        },
        {
          "output_type": "execute_result",
          "data": {
            "text/plain": [
              "LotFrontage     17.739726\n",
              "MasVnrType       0.547945\n",
              "MasVnrArea       0.547945\n",
              "BsmtQual         2.534247\n",
              "BsmtCond         2.534247\n",
              "BsmtExposure     2.602740\n",
              "BsmtFinType1     2.534247\n",
              "BsmtFinType2     2.602740\n",
              "Electrical       0.068493\n",
              "FireplaceQu     47.260274\n",
              "GarageType       5.547945\n",
              "GarageYrBlt      5.547945\n",
              "GarageFinish     5.547945\n",
              "GarageQual       5.547945\n",
              "GarageCond       5.547945\n",
              "dtype: float64"
            ]
          },
          "metadata": {},
          "execution_count": 2
        }
      ]
    },
    {
      "cell_type": "markdown",
      "source": [
        "### DROP missing value ROWS"
      ],
      "metadata": {
        "id": "Lbpn9rbRU3Dj"
      }
    },
    {
      "cell_type": "code",
      "source": [
        "## Xóa những dòng mà số giá trị khác Null KHÔNG ĐẠT NGƯỠNG TỐI THIỂU\n",
        "print('Số dòng TRƯỚC khi xóa:', df.shape[0])\n",
        "df = df.dropna(thresh = 9, inplace = False)\n",
        "df.reset_index(drop=True, inplace=True)\n",
        "print('Số dòng SAU khi xóa các dòng có số giá trị khác Null KHÔNG ĐẠT NGƯỠNG TỐI THIỂU:', df.shape[0])\n",
        "# Xoá dư liệu trùng\n",
        "df = df.drop_duplicates()\n",
        "print('Số dòng SAU khi xóa dữ liệu trùng lặp:', df.shape[0])"
      ],
      "metadata": {
        "colab": {
          "base_uri": "https://localhost:8080/"
        },
        "id": "zTlqbkbUU411",
        "outputId": "0401c10c-0416-45e8-fbf3-892c0c1ac87e"
      },
      "execution_count": null,
      "outputs": [
        {
          "output_type": "stream",
          "name": "stdout",
          "text": [
            "Số dòng TRƯỚC khi xóa: 1460\n",
            "Số dòng SAU khi xóa các dòng có số giá trị khác Null KHÔNG ĐẠT NGƯỠNG TỐI THIỂU: 1460\n",
            "Số dòng SAU khi xóa dữ liệu trùng lặp: 1460\n"
          ]
        }
      ]
    },
    {
      "cell_type": "markdown",
      "source": [
        "### FILL missing values"
      ],
      "metadata": {
        "id": "3YTAEP1rTc03"
      }
    },
    {
      "cell_type": "code",
      "source": [
        "# Tách biến features và target ra riêng để xử lý các features\n",
        "X = df.drop('SaleCondition', axis=1)\n",
        "y = df['SaleCondition']\n",
        "\n",
        "# Xử lý giá trị bị thiếu bằng giá trị trung bình của cột\n",
        "numeric_cols = X.select_dtypes(include=['number']).columns\n",
        "numeric_imputer = SimpleImputer(strategy='mean')\n",
        "X[numeric_cols] = numeric_imputer.fit_transform(X[numeric_cols])\n",
        "\n",
        "# Xử lý giá trị bị thiếu bằng giá trị thường gặp nhất của mỗi cột\n",
        "categorical_cols = X.select_dtypes(exclude=['number']).columns\n",
        "categorical_imputer = SimpleImputer(strategy='most_frequent')\n",
        "X[categorical_cols] = categorical_imputer.fit_transform(X[categorical_cols])\n",
        "miss_percent(X)"
      ],
      "metadata": {
        "colab": {
          "base_uri": "https://localhost:8080/"
        },
        "id": "AciIG0EJTqL5",
        "outputId": "a148e483-dbac-4d15-e04e-f5500a28158f"
      },
      "execution_count": null,
      "outputs": [
        {
          "output_type": "execute_result",
          "data": {
            "text/plain": [
              "Series([], dtype: float64)"
            ]
          },
          "metadata": {},
          "execution_count": 4
        }
      ]
    },
    {
      "cell_type": "markdown",
      "source": [
        "### ENCODING"
      ],
      "metadata": {
        "id": "oxt4QvhiTspE"
      }
    },
    {
      "cell_type": "code",
      "source": [
        "# Dùng LabelEncoder để biến giá trị phân loại thành kiểu số\n",
        "label_encoder = LabelEncoder()\n",
        "X[categorical_cols] = X[categorical_cols].apply(lambda col: label_encoder.fit_transform(col.astype(str)))\n",
        "print('Các cột dạng categorical còn lại trong X:')\n",
        "X.select_dtypes(exclude=['number']).columns"
      ],
      "metadata": {
        "colab": {
          "base_uri": "https://localhost:8080/"
        },
        "id": "7j2_dD2bTykV",
        "outputId": "939757d1-8f85-4c6f-d54d-3a08d678993f"
      },
      "execution_count": null,
      "outputs": [
        {
          "output_type": "stream",
          "name": "stdout",
          "text": [
            "Các cột dạng categorical còn lại trong X:\n"
          ]
        },
        {
          "output_type": "execute_result",
          "data": {
            "text/plain": [
              "Index([], dtype='object')"
            ]
          },
          "metadata": {},
          "execution_count": 5
        }
      ]
    },
    {
      "cell_type": "markdown",
      "source": [
        "### NORMALIZE"
      ],
      "metadata": {
        "id": "0iP6B_odTz5J"
      }
    },
    {
      "cell_type": "code",
      "source": [
        "# Chuẩn hóa đảm bảo rằng tất cả các features có trung bình là 0 và độ lệch chuẩn là 1.\n",
        "scaler = StandardScaler()\n",
        "X[numeric_cols] = scaler.fit_transform(X[numeric_cols])\n",
        "X[numeric_cols].head()"
      ],
      "metadata": {
        "colab": {
          "base_uri": "https://localhost:8080/"
        },
        "id": "20PxAwzUT5V9",
        "outputId": "3e74bd35-a3b3-4a4a-cd47-43130abfaf99"
      },
      "execution_count": null,
      "outputs": [
        {
          "output_type": "execute_result",
          "data": {
            "text/plain": [
              "   MSSubClass  LotFrontage   LotArea  OverallQual  OverallCond  YearBuilt  \\\n",
              "0    0.073375    -0.229372 -0.207142     0.651479    -0.517200   1.050994   \n",
              "1   -0.872563     0.451936 -0.091886    -0.071836     2.179628   0.156734   \n",
              "2    0.073375    -0.093110  0.073480     0.651479    -0.517200   0.984752   \n",
              "3    0.309859    -0.456474 -0.096897     0.651479    -0.517200  -1.863632   \n",
              "4    0.073375     0.633618  0.375148     1.374795    -0.517200   0.951632   \n",
              "\n",
              "   YearRemodAdd  MasVnrArea  BsmtFinSF1  BsmtFinSF2  ...  WoodDeckSF  \\\n",
              "0      0.878668    0.511418    0.575425   -0.288653  ...   -0.752176   \n",
              "1     -0.429577   -0.574410    1.171992   -0.288653  ...    1.626195   \n",
              "2      0.830215    0.323060    0.092907   -0.288653  ...   -0.752176   \n",
              "3     -0.720298   -0.574410   -0.499274   -0.288653  ...   -0.752176   \n",
              "4      0.733308    1.364570    0.463568   -0.288653  ...    0.780197   \n",
              "\n",
              "   OpenPorchSF  EnclosedPorch  3SsnPorch  ScreenPorch  PoolArea   MiscVal  \\\n",
              "0     0.216503      -0.359325  -0.116339    -0.270208 -0.068692 -0.087688   \n",
              "1    -0.704483      -0.359325  -0.116339    -0.270208 -0.068692 -0.087688   \n",
              "2    -0.070361      -0.359325  -0.116339    -0.270208 -0.068692 -0.087688   \n",
              "3    -0.176048       4.092524  -0.116339    -0.270208 -0.068692 -0.087688   \n",
              "4     0.563760      -0.359325  -0.116339    -0.270208 -0.068692 -0.087688   \n",
              "\n",
              "     MoSold    YrSold  SalePrice  \n",
              "0 -1.599111  0.138777   0.347273  \n",
              "1 -0.489110 -0.614439   0.007288  \n",
              "2  0.990891  0.138777   0.536154  \n",
              "3 -1.599111 -1.367655  -0.515281  \n",
              "4  2.100892  0.138777   0.869843  \n",
              "\n",
              "[5 rows x 37 columns]"
            ],
            "text/html": [
              "\n",
              "  <div id=\"df-950dd08d-6d0f-41d8-afde-a991676b54f4\" class=\"colab-df-container\">\n",
              "    <div>\n",
              "<style scoped>\n",
              "    .dataframe tbody tr th:only-of-type {\n",
              "        vertical-align: middle;\n",
              "    }\n",
              "\n",
              "    .dataframe tbody tr th {\n",
              "        vertical-align: top;\n",
              "    }\n",
              "\n",
              "    .dataframe thead th {\n",
              "        text-align: right;\n",
              "    }\n",
              "</style>\n",
              "<table border=\"1\" class=\"dataframe\">\n",
              "  <thead>\n",
              "    <tr style=\"text-align: right;\">\n",
              "      <th></th>\n",
              "      <th>MSSubClass</th>\n",
              "      <th>LotFrontage</th>\n",
              "      <th>LotArea</th>\n",
              "      <th>OverallQual</th>\n",
              "      <th>OverallCond</th>\n",
              "      <th>YearBuilt</th>\n",
              "      <th>YearRemodAdd</th>\n",
              "      <th>MasVnrArea</th>\n",
              "      <th>BsmtFinSF1</th>\n",
              "      <th>BsmtFinSF2</th>\n",
              "      <th>...</th>\n",
              "      <th>WoodDeckSF</th>\n",
              "      <th>OpenPorchSF</th>\n",
              "      <th>EnclosedPorch</th>\n",
              "      <th>3SsnPorch</th>\n",
              "      <th>ScreenPorch</th>\n",
              "      <th>PoolArea</th>\n",
              "      <th>MiscVal</th>\n",
              "      <th>MoSold</th>\n",
              "      <th>YrSold</th>\n",
              "      <th>SalePrice</th>\n",
              "    </tr>\n",
              "  </thead>\n",
              "  <tbody>\n",
              "    <tr>\n",
              "      <th>0</th>\n",
              "      <td>0.073375</td>\n",
              "      <td>-0.229372</td>\n",
              "      <td>-0.207142</td>\n",
              "      <td>0.651479</td>\n",
              "      <td>-0.517200</td>\n",
              "      <td>1.050994</td>\n",
              "      <td>0.878668</td>\n",
              "      <td>0.511418</td>\n",
              "      <td>0.575425</td>\n",
              "      <td>-0.288653</td>\n",
              "      <td>...</td>\n",
              "      <td>-0.752176</td>\n",
              "      <td>0.216503</td>\n",
              "      <td>-0.359325</td>\n",
              "      <td>-0.116339</td>\n",
              "      <td>-0.270208</td>\n",
              "      <td>-0.068692</td>\n",
              "      <td>-0.087688</td>\n",
              "      <td>-1.599111</td>\n",
              "      <td>0.138777</td>\n",
              "      <td>0.347273</td>\n",
              "    </tr>\n",
              "    <tr>\n",
              "      <th>1</th>\n",
              "      <td>-0.872563</td>\n",
              "      <td>0.451936</td>\n",
              "      <td>-0.091886</td>\n",
              "      <td>-0.071836</td>\n",
              "      <td>2.179628</td>\n",
              "      <td>0.156734</td>\n",
              "      <td>-0.429577</td>\n",
              "      <td>-0.574410</td>\n",
              "      <td>1.171992</td>\n",
              "      <td>-0.288653</td>\n",
              "      <td>...</td>\n",
              "      <td>1.626195</td>\n",
              "      <td>-0.704483</td>\n",
              "      <td>-0.359325</td>\n",
              "      <td>-0.116339</td>\n",
              "      <td>-0.270208</td>\n",
              "      <td>-0.068692</td>\n",
              "      <td>-0.087688</td>\n",
              "      <td>-0.489110</td>\n",
              "      <td>-0.614439</td>\n",
              "      <td>0.007288</td>\n",
              "    </tr>\n",
              "    <tr>\n",
              "      <th>2</th>\n",
              "      <td>0.073375</td>\n",
              "      <td>-0.093110</td>\n",
              "      <td>0.073480</td>\n",
              "      <td>0.651479</td>\n",
              "      <td>-0.517200</td>\n",
              "      <td>0.984752</td>\n",
              "      <td>0.830215</td>\n",
              "      <td>0.323060</td>\n",
              "      <td>0.092907</td>\n",
              "      <td>-0.288653</td>\n",
              "      <td>...</td>\n",
              "      <td>-0.752176</td>\n",
              "      <td>-0.070361</td>\n",
              "      <td>-0.359325</td>\n",
              "      <td>-0.116339</td>\n",
              "      <td>-0.270208</td>\n",
              "      <td>-0.068692</td>\n",
              "      <td>-0.087688</td>\n",
              "      <td>0.990891</td>\n",
              "      <td>0.138777</td>\n",
              "      <td>0.536154</td>\n",
              "    </tr>\n",
              "    <tr>\n",
              "      <th>3</th>\n",
              "      <td>0.309859</td>\n",
              "      <td>-0.456474</td>\n",
              "      <td>-0.096897</td>\n",
              "      <td>0.651479</td>\n",
              "      <td>-0.517200</td>\n",
              "      <td>-1.863632</td>\n",
              "      <td>-0.720298</td>\n",
              "      <td>-0.574410</td>\n",
              "      <td>-0.499274</td>\n",
              "      <td>-0.288653</td>\n",
              "      <td>...</td>\n",
              "      <td>-0.752176</td>\n",
              "      <td>-0.176048</td>\n",
              "      <td>4.092524</td>\n",
              "      <td>-0.116339</td>\n",
              "      <td>-0.270208</td>\n",
              "      <td>-0.068692</td>\n",
              "      <td>-0.087688</td>\n",
              "      <td>-1.599111</td>\n",
              "      <td>-1.367655</td>\n",
              "      <td>-0.515281</td>\n",
              "    </tr>\n",
              "    <tr>\n",
              "      <th>4</th>\n",
              "      <td>0.073375</td>\n",
              "      <td>0.633618</td>\n",
              "      <td>0.375148</td>\n",
              "      <td>1.374795</td>\n",
              "      <td>-0.517200</td>\n",
              "      <td>0.951632</td>\n",
              "      <td>0.733308</td>\n",
              "      <td>1.364570</td>\n",
              "      <td>0.463568</td>\n",
              "      <td>-0.288653</td>\n",
              "      <td>...</td>\n",
              "      <td>0.780197</td>\n",
              "      <td>0.563760</td>\n",
              "      <td>-0.359325</td>\n",
              "      <td>-0.116339</td>\n",
              "      <td>-0.270208</td>\n",
              "      <td>-0.068692</td>\n",
              "      <td>-0.087688</td>\n",
              "      <td>2.100892</td>\n",
              "      <td>0.138777</td>\n",
              "      <td>0.869843</td>\n",
              "    </tr>\n",
              "  </tbody>\n",
              "</table>\n",
              "<p>5 rows × 37 columns</p>\n",
              "</div>\n",
              "    <div class=\"colab-df-buttons\">\n",
              "\n",
              "  <div class=\"colab-df-container\">\n",
              "    <button class=\"colab-df-convert\" onclick=\"convertToInteractive('df-950dd08d-6d0f-41d8-afde-a991676b54f4')\"\n",
              "            title=\"Convert this dataframe to an interactive table.\"\n",
              "            style=\"display:none;\">\n",
              "\n",
              "  <svg xmlns=\"http://www.w3.org/2000/svg\" height=\"24px\" viewBox=\"0 -960 960 960\">\n",
              "    <path d=\"M120-120v-720h720v720H120Zm60-500h600v-160H180v160Zm220 220h160v-160H400v160Zm0 220h160v-160H400v160ZM180-400h160v-160H180v160Zm440 0h160v-160H620v160ZM180-180h160v-160H180v160Zm440 0h160v-160H620v160Z\"/>\n",
              "  </svg>\n",
              "    </button>\n",
              "\n",
              "  <style>\n",
              "    .colab-df-container {\n",
              "      display:flex;\n",
              "      gap: 12px;\n",
              "    }\n",
              "\n",
              "    .colab-df-convert {\n",
              "      background-color: #E8F0FE;\n",
              "      border: none;\n",
              "      border-radius: 50%;\n",
              "      cursor: pointer;\n",
              "      display: none;\n",
              "      fill: #1967D2;\n",
              "      height: 32px;\n",
              "      padding: 0 0 0 0;\n",
              "      width: 32px;\n",
              "    }\n",
              "\n",
              "    .colab-df-convert:hover {\n",
              "      background-color: #E2EBFA;\n",
              "      box-shadow: 0px 1px 2px rgba(60, 64, 67, 0.3), 0px 1px 3px 1px rgba(60, 64, 67, 0.15);\n",
              "      fill: #174EA6;\n",
              "    }\n",
              "\n",
              "    .colab-df-buttons div {\n",
              "      margin-bottom: 4px;\n",
              "    }\n",
              "\n",
              "    [theme=dark] .colab-df-convert {\n",
              "      background-color: #3B4455;\n",
              "      fill: #D2E3FC;\n",
              "    }\n",
              "\n",
              "    [theme=dark] .colab-df-convert:hover {\n",
              "      background-color: #434B5C;\n",
              "      box-shadow: 0px 1px 3px 1px rgba(0, 0, 0, 0.15);\n",
              "      filter: drop-shadow(0px 1px 2px rgba(0, 0, 0, 0.3));\n",
              "      fill: #FFFFFF;\n",
              "    }\n",
              "  </style>\n",
              "\n",
              "    <script>\n",
              "      const buttonEl =\n",
              "        document.querySelector('#df-950dd08d-6d0f-41d8-afde-a991676b54f4 button.colab-df-convert');\n",
              "      buttonEl.style.display =\n",
              "        google.colab.kernel.accessAllowed ? 'block' : 'none';\n",
              "\n",
              "      async function convertToInteractive(key) {\n",
              "        const element = document.querySelector('#df-950dd08d-6d0f-41d8-afde-a991676b54f4');\n",
              "        const dataTable =\n",
              "          await google.colab.kernel.invokeFunction('convertToInteractive',\n",
              "                                                    [key], {});\n",
              "        if (!dataTable) return;\n",
              "\n",
              "        const docLinkHtml = 'Like what you see? Visit the ' +\n",
              "          '<a target=\"_blank\" href=https://colab.research.google.com/notebooks/data_table.ipynb>data table notebook</a>'\n",
              "          + ' to learn more about interactive tables.';\n",
              "        element.innerHTML = '';\n",
              "        dataTable['output_type'] = 'display_data';\n",
              "        await google.colab.output.renderOutput(dataTable, element);\n",
              "        const docLink = document.createElement('div');\n",
              "        docLink.innerHTML = docLinkHtml;\n",
              "        element.appendChild(docLink);\n",
              "      }\n",
              "    </script>\n",
              "  </div>\n",
              "\n",
              "\n",
              "<div id=\"df-dc69f23e-333e-449d-8ab6-73172eb42895\">\n",
              "  <button class=\"colab-df-quickchart\" onclick=\"quickchart('df-dc69f23e-333e-449d-8ab6-73172eb42895')\"\n",
              "            title=\"Suggest charts\"\n",
              "            style=\"display:none;\">\n",
              "\n",
              "<svg xmlns=\"http://www.w3.org/2000/svg\" height=\"24px\"viewBox=\"0 0 24 24\"\n",
              "     width=\"24px\">\n",
              "    <g>\n",
              "        <path d=\"M19 3H5c-1.1 0-2 .9-2 2v14c0 1.1.9 2 2 2h14c1.1 0 2-.9 2-2V5c0-1.1-.9-2-2-2zM9 17H7v-7h2v7zm4 0h-2V7h2v10zm4 0h-2v-4h2v4z\"/>\n",
              "    </g>\n",
              "</svg>\n",
              "  </button>\n",
              "\n",
              "<style>\n",
              "  .colab-df-quickchart {\n",
              "      --bg-color: #E8F0FE;\n",
              "      --fill-color: #1967D2;\n",
              "      --hover-bg-color: #E2EBFA;\n",
              "      --hover-fill-color: #174EA6;\n",
              "      --disabled-fill-color: #AAA;\n",
              "      --disabled-bg-color: #DDD;\n",
              "  }\n",
              "\n",
              "  [theme=dark] .colab-df-quickchart {\n",
              "      --bg-color: #3B4455;\n",
              "      --fill-color: #D2E3FC;\n",
              "      --hover-bg-color: #434B5C;\n",
              "      --hover-fill-color: #FFFFFF;\n",
              "      --disabled-bg-color: #3B4455;\n",
              "      --disabled-fill-color: #666;\n",
              "  }\n",
              "\n",
              "  .colab-df-quickchart {\n",
              "    background-color: var(--bg-color);\n",
              "    border: none;\n",
              "    border-radius: 50%;\n",
              "    cursor: pointer;\n",
              "    display: none;\n",
              "    fill: var(--fill-color);\n",
              "    height: 32px;\n",
              "    padding: 0;\n",
              "    width: 32px;\n",
              "  }\n",
              "\n",
              "  .colab-df-quickchart:hover {\n",
              "    background-color: var(--hover-bg-color);\n",
              "    box-shadow: 0 1px 2px rgba(60, 64, 67, 0.3), 0 1px 3px 1px rgba(60, 64, 67, 0.15);\n",
              "    fill: var(--button-hover-fill-color);\n",
              "  }\n",
              "\n",
              "  .colab-df-quickchart-complete:disabled,\n",
              "  .colab-df-quickchart-complete:disabled:hover {\n",
              "    background-color: var(--disabled-bg-color);\n",
              "    fill: var(--disabled-fill-color);\n",
              "    box-shadow: none;\n",
              "  }\n",
              "\n",
              "  .colab-df-spinner {\n",
              "    border: 2px solid var(--fill-color);\n",
              "    border-color: transparent;\n",
              "    border-bottom-color: var(--fill-color);\n",
              "    animation:\n",
              "      spin 1s steps(1) infinite;\n",
              "  }\n",
              "\n",
              "  @keyframes spin {\n",
              "    0% {\n",
              "      border-color: transparent;\n",
              "      border-bottom-color: var(--fill-color);\n",
              "      border-left-color: var(--fill-color);\n",
              "    }\n",
              "    20% {\n",
              "      border-color: transparent;\n",
              "      border-left-color: var(--fill-color);\n",
              "      border-top-color: var(--fill-color);\n",
              "    }\n",
              "    30% {\n",
              "      border-color: transparent;\n",
              "      border-left-color: var(--fill-color);\n",
              "      border-top-color: var(--fill-color);\n",
              "      border-right-color: var(--fill-color);\n",
              "    }\n",
              "    40% {\n",
              "      border-color: transparent;\n",
              "      border-right-color: var(--fill-color);\n",
              "      border-top-color: var(--fill-color);\n",
              "    }\n",
              "    60% {\n",
              "      border-color: transparent;\n",
              "      border-right-color: var(--fill-color);\n",
              "    }\n",
              "    80% {\n",
              "      border-color: transparent;\n",
              "      border-right-color: var(--fill-color);\n",
              "      border-bottom-color: var(--fill-color);\n",
              "    }\n",
              "    90% {\n",
              "      border-color: transparent;\n",
              "      border-bottom-color: var(--fill-color);\n",
              "    }\n",
              "  }\n",
              "</style>\n",
              "\n",
              "  <script>\n",
              "    async function quickchart(key) {\n",
              "      const quickchartButtonEl =\n",
              "        document.querySelector('#' + key + ' button');\n",
              "      quickchartButtonEl.disabled = true;  // To prevent multiple clicks.\n",
              "      quickchartButtonEl.classList.add('colab-df-spinner');\n",
              "      try {\n",
              "        const charts = await google.colab.kernel.invokeFunction(\n",
              "            'suggestCharts', [key], {});\n",
              "      } catch (error) {\n",
              "        console.error('Error during call to suggestCharts:', error);\n",
              "      }\n",
              "      quickchartButtonEl.classList.remove('colab-df-spinner');\n",
              "      quickchartButtonEl.classList.add('colab-df-quickchart-complete');\n",
              "    }\n",
              "    (() => {\n",
              "      let quickchartButtonEl =\n",
              "        document.querySelector('#df-dc69f23e-333e-449d-8ab6-73172eb42895 button');\n",
              "      quickchartButtonEl.style.display =\n",
              "        google.colab.kernel.accessAllowed ? 'block' : 'none';\n",
              "    })();\n",
              "  </script>\n",
              "</div>\n",
              "\n",
              "    </div>\n",
              "  </div>\n"
            ]
          },
          "metadata": {},
          "execution_count": 6
        }
      ]
    },
    {
      "cell_type": "markdown",
      "source": [
        "### OUTLIERS"
      ],
      "metadata": {
        "id": "zmdQojugT6qM"
      }
    },
    {
      "cell_type": "code",
      "source": [
        "z_scores = np.abs((df.select_dtypes(include=['number']) - df.select_dtypes(include=['number']).mean()) / df.select_dtypes(include=['number']).std())\n",
        "\n",
        "# Đặt ngưỡng cho Z-score\n",
        "threshold = 3\n",
        "filtered_entries = (z_scores > threshold).any(axis=1)\n",
        "filtered_entries.sum()\n",
        "X = X[~filtered_entries]\n",
        "y = y[~filtered_entries]\n",
        "print('Số dòng TRƯỚC khi xóa:', df.shape[0])\n",
        "print('Số dòng SAU khi xóa:', X.shape[0])"
      ],
      "metadata": {
        "id": "jKthXqmHtJC5",
        "colab": {
          "base_uri": "https://localhost:8080/"
        },
        "outputId": "cb0b9461-f48e-4543-ca8d-9d1113b9420d"
      },
      "execution_count": null,
      "outputs": [
        {
          "output_type": "stream",
          "name": "stdout",
          "text": [
            "Số dòng TRƯỚC khi xóa: 1460\n",
            "Số dòng SAU khi xóa: 1017\n"
          ]
        }
      ]
    },
    {
      "cell_type": "markdown",
      "source": [
        "### DECOMPOSITION PCA"
      ],
      "metadata": {
        "id": "eR_hKSYfT_Ls"
      }
    },
    {
      "cell_type": "code",
      "execution_count": null,
      "metadata": {
        "id": "JhoSqdNlMk7J",
        "colab": {
          "base_uri": "https://localhost:8080/",
          "height": 256
        },
        "outputId": "577e1ec2-f6a0-4ee9-c6c8-51e9eb869787"
      },
      "outputs": [
        {
          "output_type": "execute_result",
          "data": {
            "text/plain": [
              "        PC1       PC2       PC3       PC4       PC5       PC6       PC7  \\\n",
              "0  7.035618 -3.239511 -3.099135  0.033899 -2.168411  0.156596 -1.360277   \n",
              "1  6.975801 -3.383676 -3.889207 -0.201636 -1.769487 -0.908469 -0.688734   \n",
              "2 -3.105372 -4.889386 -4.486935 -0.116641 -1.324504 -2.731219 -0.107450   \n",
              "3 -8.954018 -5.343739 -1.491586 -3.083902  0.801284  1.188033 -1.364366   \n",
              "4 -7.334387  5.405637  2.743959  0.502050  0.805569  1.143930 -0.393555   \n",
              "\n",
              "        PC8       PC9      PC10  ...      PC14      PC15      PC16      PC17  \\\n",
              "0  0.227379 -0.407327  1.985808  ... -0.174545 -0.086894  1.267975  0.005505   \n",
              "1 -0.221227 -0.184625  0.750304  ...  0.039363 -0.524699  0.538733 -0.154812   \n",
              "2  0.521886  0.330851 -0.586656  ... -0.013372 -0.529687  0.209140 -0.583194   \n",
              "3  1.076248 -0.058959 -0.781852  ... -0.358687 -0.040520  0.580233 -0.398593   \n",
              "4  2.669700 -0.793985  1.104989  ...  0.255596  0.585608  0.763893  1.418515   \n",
              "\n",
              "       PC18      PC19      PC20      PC21      PC22  SaleCondition  \n",
              "0 -0.453929 -0.442664  0.931218  0.993239 -0.303199              4  \n",
              "1 -0.340140 -0.347781 -0.914029 -0.641548  0.458918              4  \n",
              "2  0.772115  0.594572 -0.812956 -1.225517 -0.908820              4  \n",
              "3  1.056567 -0.162907  0.896445 -0.500781  0.147290              4  \n",
              "4 -0.583514 -1.754623  0.682395  0.220048 -1.195017              4  \n",
              "\n",
              "[5 rows x 23 columns]"
            ],
            "text/html": [
              "\n",
              "  <div id=\"df-672d28c6-e490-45bd-a0de-969e1f0b3b57\" class=\"colab-df-container\">\n",
              "    <div>\n",
              "<style scoped>\n",
              "    .dataframe tbody tr th:only-of-type {\n",
              "        vertical-align: middle;\n",
              "    }\n",
              "\n",
              "    .dataframe tbody tr th {\n",
              "        vertical-align: top;\n",
              "    }\n",
              "\n",
              "    .dataframe thead th {\n",
              "        text-align: right;\n",
              "    }\n",
              "</style>\n",
              "<table border=\"1\" class=\"dataframe\">\n",
              "  <thead>\n",
              "    <tr style=\"text-align: right;\">\n",
              "      <th></th>\n",
              "      <th>PC1</th>\n",
              "      <th>PC2</th>\n",
              "      <th>PC3</th>\n",
              "      <th>PC4</th>\n",
              "      <th>PC5</th>\n",
              "      <th>PC6</th>\n",
              "      <th>PC7</th>\n",
              "      <th>PC8</th>\n",
              "      <th>PC9</th>\n",
              "      <th>PC10</th>\n",
              "      <th>...</th>\n",
              "      <th>PC14</th>\n",
              "      <th>PC15</th>\n",
              "      <th>PC16</th>\n",
              "      <th>PC17</th>\n",
              "      <th>PC18</th>\n",
              "      <th>PC19</th>\n",
              "      <th>PC20</th>\n",
              "      <th>PC21</th>\n",
              "      <th>PC22</th>\n",
              "      <th>SaleCondition</th>\n",
              "    </tr>\n",
              "  </thead>\n",
              "  <tbody>\n",
              "    <tr>\n",
              "      <th>0</th>\n",
              "      <td>7.035618</td>\n",
              "      <td>-3.239511</td>\n",
              "      <td>-3.099135</td>\n",
              "      <td>0.033899</td>\n",
              "      <td>-2.168411</td>\n",
              "      <td>0.156596</td>\n",
              "      <td>-1.360277</td>\n",
              "      <td>0.227379</td>\n",
              "      <td>-0.407327</td>\n",
              "      <td>1.985808</td>\n",
              "      <td>...</td>\n",
              "      <td>-0.174545</td>\n",
              "      <td>-0.086894</td>\n",
              "      <td>1.267975</td>\n",
              "      <td>0.005505</td>\n",
              "      <td>-0.453929</td>\n",
              "      <td>-0.442664</td>\n",
              "      <td>0.931218</td>\n",
              "      <td>0.993239</td>\n",
              "      <td>-0.303199</td>\n",
              "      <td>4</td>\n",
              "    </tr>\n",
              "    <tr>\n",
              "      <th>1</th>\n",
              "      <td>6.975801</td>\n",
              "      <td>-3.383676</td>\n",
              "      <td>-3.889207</td>\n",
              "      <td>-0.201636</td>\n",
              "      <td>-1.769487</td>\n",
              "      <td>-0.908469</td>\n",
              "      <td>-0.688734</td>\n",
              "      <td>-0.221227</td>\n",
              "      <td>-0.184625</td>\n",
              "      <td>0.750304</td>\n",
              "      <td>...</td>\n",
              "      <td>0.039363</td>\n",
              "      <td>-0.524699</td>\n",
              "      <td>0.538733</td>\n",
              "      <td>-0.154812</td>\n",
              "      <td>-0.340140</td>\n",
              "      <td>-0.347781</td>\n",
              "      <td>-0.914029</td>\n",
              "      <td>-0.641548</td>\n",
              "      <td>0.458918</td>\n",
              "      <td>4</td>\n",
              "    </tr>\n",
              "    <tr>\n",
              "      <th>2</th>\n",
              "      <td>-3.105372</td>\n",
              "      <td>-4.889386</td>\n",
              "      <td>-4.486935</td>\n",
              "      <td>-0.116641</td>\n",
              "      <td>-1.324504</td>\n",
              "      <td>-2.731219</td>\n",
              "      <td>-0.107450</td>\n",
              "      <td>0.521886</td>\n",
              "      <td>0.330851</td>\n",
              "      <td>-0.586656</td>\n",
              "      <td>...</td>\n",
              "      <td>-0.013372</td>\n",
              "      <td>-0.529687</td>\n",
              "      <td>0.209140</td>\n",
              "      <td>-0.583194</td>\n",
              "      <td>0.772115</td>\n",
              "      <td>0.594572</td>\n",
              "      <td>-0.812956</td>\n",
              "      <td>-1.225517</td>\n",
              "      <td>-0.908820</td>\n",
              "      <td>4</td>\n",
              "    </tr>\n",
              "    <tr>\n",
              "      <th>3</th>\n",
              "      <td>-8.954018</td>\n",
              "      <td>-5.343739</td>\n",
              "      <td>-1.491586</td>\n",
              "      <td>-3.083902</td>\n",
              "      <td>0.801284</td>\n",
              "      <td>1.188033</td>\n",
              "      <td>-1.364366</td>\n",
              "      <td>1.076248</td>\n",
              "      <td>-0.058959</td>\n",
              "      <td>-0.781852</td>\n",
              "      <td>...</td>\n",
              "      <td>-0.358687</td>\n",
              "      <td>-0.040520</td>\n",
              "      <td>0.580233</td>\n",
              "      <td>-0.398593</td>\n",
              "      <td>1.056567</td>\n",
              "      <td>-0.162907</td>\n",
              "      <td>0.896445</td>\n",
              "      <td>-0.500781</td>\n",
              "      <td>0.147290</td>\n",
              "      <td>4</td>\n",
              "    </tr>\n",
              "    <tr>\n",
              "      <th>4</th>\n",
              "      <td>-7.334387</td>\n",
              "      <td>5.405637</td>\n",
              "      <td>2.743959</td>\n",
              "      <td>0.502050</td>\n",
              "      <td>0.805569</td>\n",
              "      <td>1.143930</td>\n",
              "      <td>-0.393555</td>\n",
              "      <td>2.669700</td>\n",
              "      <td>-0.793985</td>\n",
              "      <td>1.104989</td>\n",
              "      <td>...</td>\n",
              "      <td>0.255596</td>\n",
              "      <td>0.585608</td>\n",
              "      <td>0.763893</td>\n",
              "      <td>1.418515</td>\n",
              "      <td>-0.583514</td>\n",
              "      <td>-1.754623</td>\n",
              "      <td>0.682395</td>\n",
              "      <td>0.220048</td>\n",
              "      <td>-1.195017</td>\n",
              "      <td>4</td>\n",
              "    </tr>\n",
              "  </tbody>\n",
              "</table>\n",
              "<p>5 rows × 23 columns</p>\n",
              "</div>\n",
              "    <div class=\"colab-df-buttons\">\n",
              "\n",
              "  <div class=\"colab-df-container\">\n",
              "    <button class=\"colab-df-convert\" onclick=\"convertToInteractive('df-672d28c6-e490-45bd-a0de-969e1f0b3b57')\"\n",
              "            title=\"Convert this dataframe to an interactive table.\"\n",
              "            style=\"display:none;\">\n",
              "\n",
              "  <svg xmlns=\"http://www.w3.org/2000/svg\" height=\"24px\" viewBox=\"0 -960 960 960\">\n",
              "    <path d=\"M120-120v-720h720v720H120Zm60-500h600v-160H180v160Zm220 220h160v-160H400v160Zm0 220h160v-160H400v160ZM180-400h160v-160H180v160Zm440 0h160v-160H620v160ZM180-180h160v-160H180v160Zm440 0h160v-160H620v160Z\"/>\n",
              "  </svg>\n",
              "    </button>\n",
              "\n",
              "  <style>\n",
              "    .colab-df-container {\n",
              "      display:flex;\n",
              "      gap: 12px;\n",
              "    }\n",
              "\n",
              "    .colab-df-convert {\n",
              "      background-color: #E8F0FE;\n",
              "      border: none;\n",
              "      border-radius: 50%;\n",
              "      cursor: pointer;\n",
              "      display: none;\n",
              "      fill: #1967D2;\n",
              "      height: 32px;\n",
              "      padding: 0 0 0 0;\n",
              "      width: 32px;\n",
              "    }\n",
              "\n",
              "    .colab-df-convert:hover {\n",
              "      background-color: #E2EBFA;\n",
              "      box-shadow: 0px 1px 2px rgba(60, 64, 67, 0.3), 0px 1px 3px 1px rgba(60, 64, 67, 0.15);\n",
              "      fill: #174EA6;\n",
              "    }\n",
              "\n",
              "    .colab-df-buttons div {\n",
              "      margin-bottom: 4px;\n",
              "    }\n",
              "\n",
              "    [theme=dark] .colab-df-convert {\n",
              "      background-color: #3B4455;\n",
              "      fill: #D2E3FC;\n",
              "    }\n",
              "\n",
              "    [theme=dark] .colab-df-convert:hover {\n",
              "      background-color: #434B5C;\n",
              "      box-shadow: 0px 1px 3px 1px rgba(0, 0, 0, 0.15);\n",
              "      filter: drop-shadow(0px 1px 2px rgba(0, 0, 0, 0.3));\n",
              "      fill: #FFFFFF;\n",
              "    }\n",
              "  </style>\n",
              "\n",
              "    <script>\n",
              "      const buttonEl =\n",
              "        document.querySelector('#df-672d28c6-e490-45bd-a0de-969e1f0b3b57 button.colab-df-convert');\n",
              "      buttonEl.style.display =\n",
              "        google.colab.kernel.accessAllowed ? 'block' : 'none';\n",
              "\n",
              "      async function convertToInteractive(key) {\n",
              "        const element = document.querySelector('#df-672d28c6-e490-45bd-a0de-969e1f0b3b57');\n",
              "        const dataTable =\n",
              "          await google.colab.kernel.invokeFunction('convertToInteractive',\n",
              "                                                    [key], {});\n",
              "        if (!dataTable) return;\n",
              "\n",
              "        const docLinkHtml = 'Like what you see? Visit the ' +\n",
              "          '<a target=\"_blank\" href=https://colab.research.google.com/notebooks/data_table.ipynb>data table notebook</a>'\n",
              "          + ' to learn more about interactive tables.';\n",
              "        element.innerHTML = '';\n",
              "        dataTable['output_type'] = 'display_data';\n",
              "        await google.colab.output.renderOutput(dataTable, element);\n",
              "        const docLink = document.createElement('div');\n",
              "        docLink.innerHTML = docLinkHtml;\n",
              "        element.appendChild(docLink);\n",
              "      }\n",
              "    </script>\n",
              "  </div>\n",
              "\n",
              "\n",
              "<div id=\"df-d806a869-3b39-4f98-a6f7-3782031b2e27\">\n",
              "  <button class=\"colab-df-quickchart\" onclick=\"quickchart('df-d806a869-3b39-4f98-a6f7-3782031b2e27')\"\n",
              "            title=\"Suggest charts\"\n",
              "            style=\"display:none;\">\n",
              "\n",
              "<svg xmlns=\"http://www.w3.org/2000/svg\" height=\"24px\"viewBox=\"0 0 24 24\"\n",
              "     width=\"24px\">\n",
              "    <g>\n",
              "        <path d=\"M19 3H5c-1.1 0-2 .9-2 2v14c0 1.1.9 2 2 2h14c1.1 0 2-.9 2-2V5c0-1.1-.9-2-2-2zM9 17H7v-7h2v7zm4 0h-2V7h2v10zm4 0h-2v-4h2v4z\"/>\n",
              "    </g>\n",
              "</svg>\n",
              "  </button>\n",
              "\n",
              "<style>\n",
              "  .colab-df-quickchart {\n",
              "      --bg-color: #E8F0FE;\n",
              "      --fill-color: #1967D2;\n",
              "      --hover-bg-color: #E2EBFA;\n",
              "      --hover-fill-color: #174EA6;\n",
              "      --disabled-fill-color: #AAA;\n",
              "      --disabled-bg-color: #DDD;\n",
              "  }\n",
              "\n",
              "  [theme=dark] .colab-df-quickchart {\n",
              "      --bg-color: #3B4455;\n",
              "      --fill-color: #D2E3FC;\n",
              "      --hover-bg-color: #434B5C;\n",
              "      --hover-fill-color: #FFFFFF;\n",
              "      --disabled-bg-color: #3B4455;\n",
              "      --disabled-fill-color: #666;\n",
              "  }\n",
              "\n",
              "  .colab-df-quickchart {\n",
              "    background-color: var(--bg-color);\n",
              "    border: none;\n",
              "    border-radius: 50%;\n",
              "    cursor: pointer;\n",
              "    display: none;\n",
              "    fill: var(--fill-color);\n",
              "    height: 32px;\n",
              "    padding: 0;\n",
              "    width: 32px;\n",
              "  }\n",
              "\n",
              "  .colab-df-quickchart:hover {\n",
              "    background-color: var(--hover-bg-color);\n",
              "    box-shadow: 0 1px 2px rgba(60, 64, 67, 0.3), 0 1px 3px 1px rgba(60, 64, 67, 0.15);\n",
              "    fill: var(--button-hover-fill-color);\n",
              "  }\n",
              "\n",
              "  .colab-df-quickchart-complete:disabled,\n",
              "  .colab-df-quickchart-complete:disabled:hover {\n",
              "    background-color: var(--disabled-bg-color);\n",
              "    fill: var(--disabled-fill-color);\n",
              "    box-shadow: none;\n",
              "  }\n",
              "\n",
              "  .colab-df-spinner {\n",
              "    border: 2px solid var(--fill-color);\n",
              "    border-color: transparent;\n",
              "    border-bottom-color: var(--fill-color);\n",
              "    animation:\n",
              "      spin 1s steps(1) infinite;\n",
              "  }\n",
              "\n",
              "  @keyframes spin {\n",
              "    0% {\n",
              "      border-color: transparent;\n",
              "      border-bottom-color: var(--fill-color);\n",
              "      border-left-color: var(--fill-color);\n",
              "    }\n",
              "    20% {\n",
              "      border-color: transparent;\n",
              "      border-left-color: var(--fill-color);\n",
              "      border-top-color: var(--fill-color);\n",
              "    }\n",
              "    30% {\n",
              "      border-color: transparent;\n",
              "      border-left-color: var(--fill-color);\n",
              "      border-top-color: var(--fill-color);\n",
              "      border-right-color: var(--fill-color);\n",
              "    }\n",
              "    40% {\n",
              "      border-color: transparent;\n",
              "      border-right-color: var(--fill-color);\n",
              "      border-top-color: var(--fill-color);\n",
              "    }\n",
              "    60% {\n",
              "      border-color: transparent;\n",
              "      border-right-color: var(--fill-color);\n",
              "    }\n",
              "    80% {\n",
              "      border-color: transparent;\n",
              "      border-right-color: var(--fill-color);\n",
              "      border-bottom-color: var(--fill-color);\n",
              "    }\n",
              "    90% {\n",
              "      border-color: transparent;\n",
              "      border-bottom-color: var(--fill-color);\n",
              "    }\n",
              "  }\n",
              "</style>\n",
              "\n",
              "  <script>\n",
              "    async function quickchart(key) {\n",
              "      const quickchartButtonEl =\n",
              "        document.querySelector('#' + key + ' button');\n",
              "      quickchartButtonEl.disabled = true;  // To prevent multiple clicks.\n",
              "      quickchartButtonEl.classList.add('colab-df-spinner');\n",
              "      try {\n",
              "        const charts = await google.colab.kernel.invokeFunction(\n",
              "            'suggestCharts', [key], {});\n",
              "      } catch (error) {\n",
              "        console.error('Error during call to suggestCharts:', error);\n",
              "      }\n",
              "      quickchartButtonEl.classList.remove('colab-df-spinner');\n",
              "      quickchartButtonEl.classList.add('colab-df-quickchart-complete');\n",
              "    }\n",
              "    (() => {\n",
              "      let quickchartButtonEl =\n",
              "        document.querySelector('#df-d806a869-3b39-4f98-a6f7-3782031b2e27 button');\n",
              "      quickchartButtonEl.style.display =\n",
              "        google.colab.kernel.accessAllowed ? 'block' : 'none';\n",
              "    })();\n",
              "  </script>\n",
              "</div>\n",
              "\n",
              "    </div>\n",
              "  </div>\n"
            ]
          },
          "metadata": {},
          "execution_count": 8
        }
      ],
      "source": [
        "# Áp dụng PCA để giảm chiều dữ liệu\n",
        "pca = PCA(n_components=0.9)  # Giữ lại 90% phương sai\n",
        "X_pca = pca.fit_transform(X)\n",
        "y = label_encoder.fit_transform(y)\n",
        "\n",
        "preprocessed_data = pd.DataFrame(X_pca, columns=[f'PC{i}' for i in range(1, X_pca.shape[1] + 1)])\n",
        "preprocessed_data['SaleCondition'] = y\n",
        "\n",
        "X = preprocessed_data.drop('SaleCondition', axis=1)\n",
        "y = preprocessed_data['SaleCondition']\n",
        "preprocessed_data.head()"
      ]
    },
    {
      "cell_type": "markdown",
      "source": [
        "#### hàm xử lý dữ liệu đầu vào mô hình để thực hiện dự đoán"
      ],
      "metadata": {
        "id": "zXdgawzfGDqk"
      }
    },
    {
      "cell_type": "code",
      "source": [
        "def preprocessing_data(df, target):\n",
        "  cols_to_drop= miss_percent(df)[miss_percent(df)>80].index\n",
        "  df.drop(columns=cols_to_drop, axis = 1,inplace=True)\n",
        "  df_vali[target] = df_vali[target].apply(lambda x: x.upper()[:3])\n",
        "\n",
        "  df = df.dropna(thresh = 9, inplace = False)\n",
        "  df.reset_index(drop=True, inplace=True)\n",
        "  df = df.drop_duplicates()\n",
        "  Xt = df.drop(target, axis=1)\n",
        "  yt = df[target]\n",
        "\n",
        "  numeric_cols = Xt.select_dtypes(include=['number']).columns\n",
        "  numeric_imputer = SimpleImputer(strategy='mean')\n",
        "  Xt[numeric_cols] = numeric_imputer.fit_transform(Xt[numeric_cols])\n",
        "\n",
        "  categorical_cols = Xt.select_dtypes(exclude=['number']).columns\n",
        "  categorical_imputer = SimpleImputer(strategy='most_frequent')\n",
        "  Xt[categorical_cols] = categorical_imputer.fit_transform(Xt[categorical_cols])\n",
        "  label_encoder = LabelEncoder()\n",
        "  Xt[categorical_cols] = Xt[categorical_cols].apply(lambda col: label_encoder.fit_transform(col.astype(str)))\n",
        "\n",
        "  scaler = StandardScaler()\n",
        "  Xt[numeric_cols] = scaler.fit_transform(Xt[numeric_cols])\n",
        "\n",
        "  pca = PCA(n_components=X.shape[1])\n",
        "  X_pca = pca.fit_transform(Xt)\n",
        "  yt = label_encoder.fit_transform(yt)\n",
        "\n",
        "  result = pd.DataFrame(X_pca, columns=[f'PC{i}' for i in range(1, X_pca.shape[1] + 1)])\n",
        "  result[target] = yt\n",
        "  return result"
      ],
      "metadata": {
        "id": "LQujBNcxQTBP"
      },
      "execution_count": null,
      "outputs": []
    },
    {
      "cell_type": "markdown",
      "source": [
        "### Validation dataset"
      ],
      "metadata": {
        "id": "597NuAA-S9as"
      }
    },
    {
      "cell_type": "code",
      "source": [
        "link1 = 'https://drive.google.com/file/d/1-OG69sSMLiM3kfAAHzFA8qxl74X9u-mM/view?usp=sharing'\n",
        "path1 = 'https://drive.google.com/uc?export=download&id=' + link1.split('/')[-2]\n",
        "df_vali = pd.read_csv(path1, encoding = 'unicode_escape')\n",
        "# # Xoá cột không cần thiết\n",
        "df_vali = df_vali.drop(['Id'], axis=1)\n",
        "df_vali.shape"
      ],
      "metadata": {
        "colab": {
          "base_uri": "https://localhost:8080/"
        },
        "id": "W4cJ9vYnNERE",
        "outputId": "8db75e62-04ab-4cf7-fb69-5bf3be19ad75"
      },
      "execution_count": null,
      "outputs": [
        {
          "output_type": "execute_result",
          "data": {
            "text/plain": [
              "(1459, 79)"
            ]
          },
          "metadata": {},
          "execution_count": 10
        }
      ]
    },
    {
      "cell_type": "code",
      "source": [
        "preprocessed_data_valid = preprocessing_data(df_vali, 'SaleCondition')\n",
        "X_valid = preprocessed_data_valid.drop(['SaleCondition'], axis=1)\n",
        "y_valid = preprocessed_data_valid['SaleCondition']\n",
        "preprocessed_data_valid.shape"
      ],
      "metadata": {
        "id": "8Fmx8vFiRl2X",
        "colab": {
          "base_uri": "https://localhost:8080/"
        },
        "outputId": "b9b2a3a7-a4b6-4be1-e2bc-012de481f6fe"
      },
      "execution_count": null,
      "outputs": [
        {
          "output_type": "execute_result",
          "data": {
            "text/plain": [
              "(1459, 23)"
            ]
          },
          "metadata": {},
          "execution_count": 24
        }
      ]
    },
    {
      "cell_type": "markdown",
      "source": [
        "## Xay dung mo hinh"
      ],
      "metadata": {
        "id": "UoGo6-L1NUp3"
      }
    },
    {
      "cell_type": "markdown",
      "source": [
        "### Chia tập huấn luyện và tập kiểm tra"
      ],
      "metadata": {
        "id": "z9yavaKfNdy4"
      }
    },
    {
      "cell_type": "code",
      "source": [
        "# Chia dữ liệu thành tập huấn luyện và tập kiểm tra\n",
        "X_train, X_test, y_train, y_test = train_test_split(X, y, test_size=0.2, random_state=42)"
      ],
      "metadata": {
        "id": "6vabw5U2NeGK"
      },
      "execution_count": null,
      "outputs": []
    },
    {
      "cell_type": "markdown",
      "source": [
        "### Chon N_ESIMATORS"
      ],
      "metadata": {
        "id": "piRvlaKuNDIL"
      }
    },
    {
      "cell_type": "code",
      "source": [
        "# Mô hình Random Forest\n",
        "rf_model = RandomForestClassifier(random_state=42)\n",
        "\n",
        "# Danh sách các giá trị n_estimators bạn muốn thử\n",
        "param_grid = {'n_estimators': [50, 100 , 150, 200]}\n",
        "\n",
        "# Tạo đối tượng GridSearchCV\n",
        "grid_search = GridSearchCV(rf_model, param_grid, cv=5, scoring='accuracy')\n",
        "\n",
        "# Tiến hành tìm kiếm trên lưới\n",
        "grid_search.fit(X_train, y_train)\n",
        "\n",
        "# In ra giá trị tốt nhất và thông số tương ứng\n",
        "best_n_estimators = grid_search.best_params_['n_estimators']\n",
        "print(\"Best n_estimators:\", best_n_estimators)\n",
        "print(\"Best Accuracy:\", grid_search.best_score_)\n",
        "\n",
        "# Đánh giá mô hình trên tập kiểm tra\n",
        "y_pred = grid_search.predict(X_test)\n",
        "test_accuracy = accuracy_score(y_test, y_pred)\n",
        "print(\"Test Accuracy:\", test_accuracy)"
      ],
      "metadata": {
        "colab": {
          "base_uri": "https://localhost:8080/"
        },
        "id": "FhmhlvRpzD_Z",
        "outputId": "c211e8b6-c28b-4e62-8e36-a86cccc27111"
      },
      "execution_count": null,
      "outputs": [
        {
          "output_type": "stream",
          "name": "stderr",
          "text": [
            "/usr/local/lib/python3.10/dist-packages/sklearn/model_selection/_split.py:700: UserWarning: The least populated class in y has only 2 members, which is less than n_splits=5.\n",
            "  warnings.warn(\n"
          ]
        },
        {
          "output_type": "stream",
          "name": "stdout",
          "text": [
            "Best n_estimators: 200\n",
            "Best Accuracy: 0.8782700901310309\n",
            "Test Accuracy: 0.9215686274509803\n"
          ]
        }
      ]
    },
    {
      "cell_type": "markdown",
      "source": [
        "### Khởi tạo mô hình, fit mô hình"
      ],
      "metadata": {
        "id": "cKf5DrrkJUe3"
      }
    },
    {
      "cell_type": "code",
      "source": [
        "rf_model = RandomForestClassifier(n_estimators=best_n_estimators, random_state=42)\n",
        "rf_model.fit(X_train, y_train)"
      ],
      "metadata": {
        "colab": {
          "base_uri": "https://localhost:8080/",
          "height": 75
        },
        "id": "sIzjEn-EUK94",
        "outputId": "7131ded7-8587-4c63-d3d0-f696f55a6d22"
      },
      "execution_count": null,
      "outputs": [
        {
          "output_type": "execute_result",
          "data": {
            "text/plain": [
              "RandomForestClassifier(n_estimators=200, random_state=42)"
            ],
            "text/html": [
              "<style>#sk-container-id-1 {color: black;background-color: white;}#sk-container-id-1 pre{padding: 0;}#sk-container-id-1 div.sk-toggleable {background-color: white;}#sk-container-id-1 label.sk-toggleable__label {cursor: pointer;display: block;width: 100%;margin-bottom: 0;padding: 0.3em;box-sizing: border-box;text-align: center;}#sk-container-id-1 label.sk-toggleable__label-arrow:before {content: \"▸\";float: left;margin-right: 0.25em;color: #696969;}#sk-container-id-1 label.sk-toggleable__label-arrow:hover:before {color: black;}#sk-container-id-1 div.sk-estimator:hover label.sk-toggleable__label-arrow:before {color: black;}#sk-container-id-1 div.sk-toggleable__content {max-height: 0;max-width: 0;overflow: hidden;text-align: left;background-color: #f0f8ff;}#sk-container-id-1 div.sk-toggleable__content pre {margin: 0.2em;color: black;border-radius: 0.25em;background-color: #f0f8ff;}#sk-container-id-1 input.sk-toggleable__control:checked~div.sk-toggleable__content {max-height: 200px;max-width: 100%;overflow: auto;}#sk-container-id-1 input.sk-toggleable__control:checked~label.sk-toggleable__label-arrow:before {content: \"▾\";}#sk-container-id-1 div.sk-estimator input.sk-toggleable__control:checked~label.sk-toggleable__label {background-color: #d4ebff;}#sk-container-id-1 div.sk-label input.sk-toggleable__control:checked~label.sk-toggleable__label {background-color: #d4ebff;}#sk-container-id-1 input.sk-hidden--visually {border: 0;clip: rect(1px 1px 1px 1px);clip: rect(1px, 1px, 1px, 1px);height: 1px;margin: -1px;overflow: hidden;padding: 0;position: absolute;width: 1px;}#sk-container-id-1 div.sk-estimator {font-family: monospace;background-color: #f0f8ff;border: 1px dotted black;border-radius: 0.25em;box-sizing: border-box;margin-bottom: 0.5em;}#sk-container-id-1 div.sk-estimator:hover {background-color: #d4ebff;}#sk-container-id-1 div.sk-parallel-item::after {content: \"\";width: 100%;border-bottom: 1px solid gray;flex-grow: 1;}#sk-container-id-1 div.sk-label:hover label.sk-toggleable__label {background-color: #d4ebff;}#sk-container-id-1 div.sk-serial::before {content: \"\";position: absolute;border-left: 1px solid gray;box-sizing: border-box;top: 0;bottom: 0;left: 50%;z-index: 0;}#sk-container-id-1 div.sk-serial {display: flex;flex-direction: column;align-items: center;background-color: white;padding-right: 0.2em;padding-left: 0.2em;position: relative;}#sk-container-id-1 div.sk-item {position: relative;z-index: 1;}#sk-container-id-1 div.sk-parallel {display: flex;align-items: stretch;justify-content: center;background-color: white;position: relative;}#sk-container-id-1 div.sk-item::before, #sk-container-id-1 div.sk-parallel-item::before {content: \"\";position: absolute;border-left: 1px solid gray;box-sizing: border-box;top: 0;bottom: 0;left: 50%;z-index: -1;}#sk-container-id-1 div.sk-parallel-item {display: flex;flex-direction: column;z-index: 1;position: relative;background-color: white;}#sk-container-id-1 div.sk-parallel-item:first-child::after {align-self: flex-end;width: 50%;}#sk-container-id-1 div.sk-parallel-item:last-child::after {align-self: flex-start;width: 50%;}#sk-container-id-1 div.sk-parallel-item:only-child::after {width: 0;}#sk-container-id-1 div.sk-dashed-wrapped {border: 1px dashed gray;margin: 0 0.4em 0.5em 0.4em;box-sizing: border-box;padding-bottom: 0.4em;background-color: white;}#sk-container-id-1 div.sk-label label {font-family: monospace;font-weight: bold;display: inline-block;line-height: 1.2em;}#sk-container-id-1 div.sk-label-container {text-align: center;}#sk-container-id-1 div.sk-container {/* jupyter's `normalize.less` sets `[hidden] { display: none; }` but bootstrap.min.css set `[hidden] { display: none !important; }` so we also need the `!important` here to be able to override the default hidden behavior on the sphinx rendered scikit-learn.org. See: https://github.com/scikit-learn/scikit-learn/issues/21755 */display: inline-block !important;position: relative;}#sk-container-id-1 div.sk-text-repr-fallback {display: none;}</style><div id=\"sk-container-id-1\" class=\"sk-top-container\"><div class=\"sk-text-repr-fallback\"><pre>RandomForestClassifier(n_estimators=200, random_state=42)</pre><b>In a Jupyter environment, please rerun this cell to show the HTML representation or trust the notebook. <br />On GitHub, the HTML representation is unable to render, please try loading this page with nbviewer.org.</b></div><div class=\"sk-container\" hidden><div class=\"sk-item\"><div class=\"sk-estimator sk-toggleable\"><input class=\"sk-toggleable__control sk-hidden--visually\" id=\"sk-estimator-id-1\" type=\"checkbox\" checked><label for=\"sk-estimator-id-1\" class=\"sk-toggleable__label sk-toggleable__label-arrow\">RandomForestClassifier</label><div class=\"sk-toggleable__content\"><pre>RandomForestClassifier(n_estimators=200, random_state=42)</pre></div></div></div></div></div>"
            ]
          },
          "metadata": {},
          "execution_count": 14
        }
      ]
    },
    {
      "cell_type": "markdown",
      "source": [
        "### Kết quả dự đoán"
      ],
      "metadata": {
        "id": "lNxORfPNJdSZ"
      }
    },
    {
      "cell_type": "code",
      "source": [
        "X_valid.shape"
      ],
      "metadata": {
        "colab": {
          "base_uri": "https://localhost:8080/"
        },
        "id": "AK7-54z2WEGc",
        "outputId": "83067ccf-2e87-43be-ad9c-5203a208f9db"
      },
      "execution_count": null,
      "outputs": [
        {
          "output_type": "execute_result",
          "data": {
            "text/plain": [
              "(1459, 22)"
            ]
          },
          "metadata": {},
          "execution_count": 15
        }
      ]
    },
    {
      "cell_type": "code",
      "source": [
        "# Dự đoán và đánh giá trên tập huấn luyện\n",
        "y_train_pred = rf_model.predict(X_train)\n",
        "train_accuracy = accuracy_score(y_train, y_train_pred)\n",
        "\n",
        "# Dự đoán và đánh giá trên tập kiểm thử\n",
        "y_test_pred = rf_model.predict(X_test)\n",
        "test_accuracy = accuracy_score(y_test, y_test_pred)\n",
        "\n",
        "# Dự đoán và đánh giá trên tập validation\n",
        "y_valid_pred = rf_model.predict(X_valid)\n",
        "valid_accuracy = accuracy_score(y_valid, y_valid_pred)\n",
        "\n",
        "evaluation_results = pd.DataFrame({\n",
        "    'Accuracy': [train_accuracy, test_accuracy, valid_accuracy]\n",
        "}, index=['Train', 'Test', 'Validation'])\n",
        "print(evaluation_results)"
      ],
      "metadata": {
        "colab": {
          "base_uri": "https://localhost:8080/"
        },
        "id": "82zN9QVEoSWj",
        "outputId": "81569565-e863-487e-f22f-7e98ddad3d45"
      },
      "execution_count": null,
      "outputs": [
        {
          "output_type": "stream",
          "name": "stdout",
          "text": [
            "            Accuracy\n",
            "Train       1.000000\n",
            "Test        0.921569\n",
            "Validation  0.800548\n"
          ]
        }
      ]
    },
    {
      "cell_type": "code",
      "source": [
        "cross_val_score(rf_model, X_train, y_train, cv = 10)"
      ],
      "metadata": {
        "colab": {
          "base_uri": "https://localhost:8080/"
        },
        "id": "Hi7TnuLcmym2",
        "outputId": "2f0879de-61c2-4deb-ec4e-bb3eaf97a943"
      },
      "execution_count": null,
      "outputs": [
        {
          "output_type": "stream",
          "name": "stderr",
          "text": [
            "/usr/local/lib/python3.10/dist-packages/sklearn/model_selection/_split.py:700: UserWarning: The least populated class in y has only 2 members, which is less than n_splits=10.\n",
            "  warnings.warn(\n"
          ]
        },
        {
          "output_type": "execute_result",
          "data": {
            "text/plain": [
              "array([0.87804878, 0.85365854, 0.86585366, 0.87654321, 0.86419753,\n",
              "       0.87654321, 0.87654321, 0.87654321, 0.88888889, 0.92592593])"
            ]
          },
          "metadata": {},
          "execution_count": 17
        }
      ]
    },
    {
      "cell_type": "code",
      "source": [
        "y_pred = rf_model.predict(X_test)\n",
        "labels = ['ABN', 'FAM', 'NOR', 'PAR']\n",
        "df_conf_matrix = pd.DataFrame(confusion_matrix(y_test, y_pred), index=labels, columns=labels)\n",
        "print(df_conf_matrix)"
      ],
      "metadata": {
        "colab": {
          "base_uri": "https://localhost:8080/"
        },
        "id": "_5fUo7sYPrvE",
        "outputId": "b1ba87cf-4392-45d4-a685-8abe66c19339"
      },
      "execution_count": null,
      "outputs": [
        {
          "output_type": "stream",
          "name": "stdout",
          "text": [
            "     ABN  FAM  NOR  PAR\n",
            "ABN    0    0    8    0\n",
            "FAM    0    0    1    0\n",
            "NOR    2    0  175    0\n",
            "PAR    0    0    5   13\n"
          ]
        }
      ]
    },
    {
      "cell_type": "code",
      "source": [
        "y_pred = rf_model.predict(X_valid)\n",
        "labels = ['ABN', 'ADJ', 'ALL', 'FAM', 'NOR', 'PAR']\n",
        "df_conf_matrix = pd.DataFrame(confusion_matrix(y_valid, y_pred), index=labels, columns=labels)\n",
        "print(df_conf_matrix)"
      ],
      "metadata": {
        "id": "6O_1UEeDUTDC",
        "colab": {
          "base_uri": "https://localhost:8080/"
        },
        "outputId": "31ae0521-8d6b-46f6-ec86-421fa1258d58"
      },
      "execution_count": null,
      "outputs": [
        {
          "output_type": "stream",
          "name": "stdout",
          "text": [
            "     ABN  ADJ  ALL  FAM   NOR  PAR\n",
            "ABN    0    0    0    0    83    6\n",
            "ADJ    0    0    0    0     8    0\n",
            "ALL    0    0    0    0    11    1\n",
            "FAM    0    0    0    0    24    2\n",
            "NOR    1    0    0    0  1160   43\n",
            "PAR    1    0    0    0   111    8\n"
          ]
        }
      ]
    },
    {
      "cell_type": "markdown",
      "metadata": {
        "id": "TXIjwI3qZcDq"
      },
      "source": [
        "## Biểu diễn mô hình 2D"
      ]
    },
    {
      "cell_type": "code",
      "execution_count": null,
      "metadata": {
        "colab": {
          "base_uri": "https://localhost:8080/"
        },
        "id": "BzUHJ8li5L9w",
        "outputId": "161c8cfd-c3ef-4b1e-f196-fbeb0469891e"
      },
      "outputs": [
        {
          "output_type": "stream",
          "name": "stderr",
          "text": [
            "/usr/local/lib/python3.10/dist-packages/sklearn/metrics/_ranking.py:1029: UndefinedMetricWarning: No positive samples in y_true, true positive value should be meaningless\n",
            "  warnings.warn(\n",
            "/usr/local/lib/python3.10/dist-packages/sklearn/metrics/_ranking.py:1029: UndefinedMetricWarning: No positive samples in y_true, true positive value should be meaningless\n",
            "  warnings.warn(\n"
          ]
        },
        {
          "output_type": "display_data",
          "data": {
            "text/plain": [
              "<Figure size 800x600 with 1 Axes>"
            ],
            "image/png": "[encoded data removed]"
          },
          "metadata": {}
        }
      ],
      "source": [
        "from sklearn.metrics import roc_curve, roc_auc_score\n",
        "import matplotlib.pyplot as plt\n",
        "\n",
        "# chia SaleCondition thành category\n",
        "y_train_bin = label_binarize(y_train, classes=[i for i in range(0, y_train.nunique())])\n",
        "y_test_bin = label_binarize(y_test, classes=[i for i in range(0,y_train.nunique())])\n",
        "\n",
        "# Khởi tạo mô hình Random Forest\n",
        "# rf_model = RandomForestClassifier(n_estimators=best_n_estimators, random_state=42)\n",
        "classifier = OneVsRestClassifier(rf_model)\n",
        "classifier.fit(X_train, y_train_bin)\n",
        "\n",
        "# Dự đoán xác suất của lớp dương (positive class)\n",
        "y_pred_proba = classifier.predict_proba(X_test)\n",
        "\n",
        "# Tính toán FPR cho đường cong ROC của mỗi lớp\n",
        "fpr = dict()\n",
        "tpr = dict()\n",
        "roc_auc = dict()\n",
        "\n",
        "for i in range(len(classifier.classes_)):\n",
        "    fpr[i], tpr[i], _ = roc_curve(y_test_bin[:, i], y_pred_proba[:, i])\n",
        "    roc_auc[i] = auc(fpr[i], tpr[i])\n",
        "\n",
        "plt.figure(figsize=(8, 6))\n",
        "\n",
        "for i in range(len(classifier.classes_)):\n",
        "    plt.plot(fpr[i], tpr[i], label=f'Class {i} (AUC = {roc_auc[i]:.2f})')\n",
        "\n",
        "# Vẽ biểu đồ ROC\n",
        "plt.plot([0, 1], [0, 1], 'k--', lw=2)\n",
        "plt.xlim([0.0, 1.0])\n",
        "plt.ylim([0.0, 1.05])\n",
        "plt.xlabel('False Positive Rate')\n",
        "plt.ylabel('True Positive Rate')\n",
        "plt.title('ROC Curve for Multiclass Classification')\n",
        "plt.legend(loc=\"lower right\")\n",
        "plt.show()"
      ]
    },
    {
      "cell_type": "markdown",
      "metadata": {
        "id": "wNr6rZ8xZLFN"
      },
      "source": [
        "# Đánh giá mô hình"
      ]
    },
    {
      "cell_type": "code",
      "execution_count": null,
      "metadata": {
        "colab": {
          "base_uri": "https://localhost:8080/"
        },
        "id": "a-XsnjCxAaC8",
        "outputId": "d45c2af1-e9a4-49e7-b309-1f3c3f29deee"
      },
      "outputs": [
        {
          "output_type": "stream",
          "name": "stdout",
          "text": [
            "              Accuracy Mean  Precision Mean  Recall Mean  F1-score Mean\n",
            "RandomForest       0.887896        0.866794     0.432452       0.454617\n",
            "KNN                0.839720        0.858820     0.286206       0.291873\n"
          ]
        }
      ],
      "source": [
        "from sklearn.neighbors import KNeighborsClassifier\n",
        "from sklearn.model_selection import train_test_split, KFold\n",
        "from sklearn.ensemble import RandomForestClassifier\n",
        "from sklearn.metrics import accuracy_score, precision_score, recall_score, f1_score\n",
        "\n",
        "# Khởi tạo mô hình Random Forest\n",
        "rf_model = RandomForestClassifier(n_estimators=best_n_estimators, random_state=42)\n",
        "k = int(pow(X_train.shape[0], 1/2) / 2)\n",
        "knn = KNeighborsClassifier(n_neighbors=k)\n",
        "\n",
        "# Khởi tạo đối tượng KFold với số fold = 10\n",
        "kfold = KFold(n_splits=10, shuffle=True, random_state=42)\n",
        "\n",
        "# Tạo danh sách để lưu trữ các kết quả đánh giá\n",
        "##randomforest\n",
        "rf_accuracy_scores = []\n",
        "rf_precision_scores = []\n",
        "rf_recall_scores = []\n",
        "rf_f1_scores = []\n",
        "##knn\n",
        "knn_accuracy_scores = []\n",
        "knn_precision_scores = []\n",
        "knn_recall_scores = []\n",
        "knn_f1_scores = []\n",
        "\n",
        "# Lặp qua từng fold và thực hiện huấn luyện và đánh giá\n",
        "for train_index, test_index in kfold.split(X):\n",
        "    X_train_fold, X_test_fold = X.iloc[train_index], X.iloc[test_index]\n",
        "    y_train_fold, y_test_fold = y[train_index], y[test_index]\n",
        "\n",
        "    # Huấn luyện mô hình trên tập huấn luyện\n",
        "    rf_model.fit(X_train_fold, y_train_fold)\n",
        "    knn.fit(X_train_fold, y_train_fold)\n",
        "\n",
        "    # Dự đoán nhãn cho tập kiểm tra\n",
        "    y_pred_rf = rf_model.predict(X_test_fold)\n",
        "    y_pred_knn = knn.predict(X_test_fold)\n",
        "\n",
        "    # Tính toán các độ đo\n",
        "    ##randomforest\n",
        "    rf_accuracy = accuracy_score(y_test_fold, y_pred_rf)\n",
        "    rf_precision = precision_score(y_test_fold, y_pred_rf, average='macro', zero_division=1)\n",
        "    rf_recall = recall_score(y_test_fold, y_pred_rf, average='macro')\n",
        "    rf_f1 = f1_score(y_test_fold, y_pred_rf, average='macro')\n",
        "    ##knn\n",
        "    knn_accuracy = accuracy_score(y_test_fold, y_pred_knn)\n",
        "    knn_precision = precision_score(y_test_fold, y_pred_knn, average='macro', zero_division=1)\n",
        "    knn_recall = recall_score(y_test_fold, y_pred_knn, average='macro')\n",
        "    knn_f1 = f1_score(y_test_fold, y_pred_knn, average='macro')\n",
        "\n",
        "    # Lưu kết quả vào danh sách\n",
        "    ##randomforest\n",
        "    rf_accuracy_scores.append(rf_accuracy)\n",
        "    rf_precision_scores.append(rf_precision)\n",
        "    rf_recall_scores.append(rf_recall)\n",
        "    rf_f1_scores.append(rf_f1)\n",
        "    ##knn\n",
        "    knn_accuracy_scores.append(knn_accuracy)\n",
        "    knn_precision_scores.append(knn_precision)\n",
        "    knn_recall_scores.append(knn_recall)\n",
        "    knn_f1_scores.append(knn_f1)\n",
        "\n",
        "# Tính trung bình các độ đo trên các fold\n",
        "##randomforest\n",
        "rf_mean_accuracy = sum(rf_accuracy_scores) / len(rf_accuracy_scores)\n",
        "rf_mean_precision = sum(rf_precision_scores) / len(rf_precision_scores)\n",
        "rf_mean_recall = sum(rf_recall_scores) / len(rf_recall_scores)\n",
        "rf_mean_f1 = sum(rf_f1_scores) / len(rf_f1_scores)\n",
        "##knn\n",
        "knn_mean_accuracy = sum(knn_accuracy_scores) / len(knn_accuracy_scores)\n",
        "knn_mean_precision = sum(knn_precision_scores) / len(knn_precision_scores)\n",
        "knn_mean_recall = sum(knn_recall_scores) / len(knn_recall_scores)\n",
        "knn_mean_f1 = sum(knn_f1_scores) / len(knn_f1_scores)\n",
        "\n",
        "# In kết quả\n",
        "comparison_results = pd.DataFrame({\n",
        "    'Accuracy Mean': [rf_mean_accuracy, knn_mean_accuracy],\n",
        "    'Precision Mean': [rf_mean_precision, knn_mean_precision],\n",
        "    'Recall Mean': [rf_mean_recall, knn_mean_recall],\n",
        "    'F1-score Mean': [rf_mean_f1, knn_mean_f1]\n",
        "}, index=['RandomForest', 'KNN'])\n",
        "print(comparison_results)"
      ]
    },
    {
      "cell_type": "markdown",
      "metadata": {
        "id": "vf9ga1xiPGoG"
      },
      "source": [
        "# **RANDOM FOREST TRONG BÀI TOÁN HỒI QUY**"
      ]
    },
    {
      "cell_type": "code",
      "execution_count": null,
      "metadata": {
        "colab": {
          "base_uri": "https://localhost:8080/",
          "height": 564
        },
        "id": "3oTFGQtvHi48",
        "outputId": "7d39f76a-0c4e-4c16-b3c1-ed5fcaa9b063"
      },
      "outputs": [
        {
          "output_type": "display_data",
          "data": {
            "text/plain": [
              "<Figure size 1000x600 with 1 Axes>"
            ],
            "image/png": "[encoded data removed]"
          },
          "metadata": {}
        }
      ],
      "source": [
        "from sklearn.ensemble import RandomForestRegressor\n",
        "from sklearn.model_selection import KFold\n",
        "from sklearn.model_selection import cross_val_score\n",
        "from sklearn.metrics import mean_absolute_error, mean_squared_error, r2_score\n",
        "from sklearn.linear_model    import LinearRegression\n",
        "\n",
        "# Khởi tạo và huấn luyện mô hình\n",
        "rf_regressor = RandomForestRegressor(n_estimators=best_n_estimators, random_state=42)\n",
        "rf_regressor.fit(X_train, y_train)\n",
        "\n",
        "# Dự đoán giá trị trên tập kiểm tra\n",
        "y_pred = rf_regressor.predict(X_test)\n",
        "# Tính toán sai số giữa giá trị dự đoán và giá trị thực tế trên tập kiểm tra\n",
        "errors = y_test - y_pred\n",
        "\n",
        "# Biểu diễn phân bố sai số trên đồ thị\n",
        "plt.figure(figsize=(10, 6))\n",
        "plt.hist(errors, bins=30)\n",
        "plt.xlabel('Error')\n",
        "plt.ylabel('Frequency')\n",
        "plt.title('RandomForestRegressor - Error Distribution')\n",
        "plt.show()"
      ]
    },
    {
      "cell_type": "markdown",
      "metadata": {
        "id": "NHXOQuuYhjsY"
      },
      "source": [
        "# Đánh giá mô hình"
      ]
    },
    {
      "cell_type": "code",
      "execution_count": null,
      "metadata": {
        "colab": {
          "base_uri": "https://localhost:8080/"
        },
        "id": "2Py5gc2zgK-M",
        "outputId": "85662221-ceae-40a5-9b38-58b4b2b0b6f0"
      },
      "outputs": [
        {
          "output_type": "stream",
          "name": "stdout",
          "text": [
            "                  Mean Absolute Error (MAE)  Mean Squared Error (MSE)  \\\n",
            "RandomForest                       0.544750                  0.145175   \n",
            "LinearRegression                   0.632294                  1.063465   \n",
            "\n",
            "                  Root Mean Squared Error (RMSE)  R^2 Score  \n",
            "RandomForest                            0.381018   0.881858  \n",
            "LinearRegression                        1.031244   0.134562  \n"
          ]
        }
      ],
      "source": [
        "# Mô hình LinearRegression\n",
        "model = LinearRegression()\n",
        "model.fit(X_train, y_train)\n",
        "# Sử dụng k-fold cross-validation và đánh giá mô hình\n",
        "k = 5  # Số lượng fold\n",
        "rf_scores = cross_val_score(rf_regressor, X_train, y_train, cv=k, scoring='neg_mean_absolute_error')\n",
        "lr_scores = cross_val_score(model, X_train, y_train, cv=k, scoring='neg_mean_absolute_error')\n",
        "\n",
        "# Chuyển đổi điểm số từ âm thành dương\n",
        "rf_mae_scores = -rf_scores\n",
        "ln_mae_scores = -lr_scores\n",
        "\n",
        "# Tính toán các chỉ số đánh giá trung bình\n",
        "rf_mae_mean = rf_mae_scores.mean()\n",
        "rf_mse_mean = mean_squared_error(y_train, rf_regressor.predict(X_train))\n",
        "rf_rmse_mean = np.sqrt(rf_mse_mean)\n",
        "rf_r2_mean = r2_score(y_train, rf_regressor.predict(X_train))\n",
        "\n",
        "lr_mae_mean = ln_mae_scores.mean()\n",
        "lr_mse_mean = mean_squared_error(y_train, model.predict(X_train))\n",
        "lr_rmse_mean = np.sqrt(lr_mse_mean)\n",
        "lr_r2_mean = r2_score(y_train, model.predict(X_train))\n",
        "\n",
        "comparison_results = pd.DataFrame({\n",
        "    'Mean Absolute Error (MAE)': [rf_mae_mean, lr_mae_mean],\n",
        "    'Mean Squared Error (MSE)': [rf_mse_mean, lr_mse_mean],\n",
        "    'Root Mean Squared Error (RMSE)': [rf_rmse_mean, lr_rmse_mean],\n",
        "    'R^2 Score': [rf_r2_mean, lr_r2_mean]\n",
        "}, index=['RandomForest', 'LinearRegression'])\n",
        "print(comparison_results)"
      ]
    },
    {
      "cell_type": "markdown",
      "source": [
        "RandomForest có MAE, MSE, RMSE thấp hơn Linear Regression và R^2 Score cao hơn so với Linear Regression. Do đó RandomForest có hiệu suất tốt hơn so với Linear Regression trên tất cả các kết quả của bài toán."
      ],
      "metadata": {
        "id": "cPGihdf5j-T2"
      }
    }
  ],
  "metadata": {
    "colab": {
      "provenance": []
    },
    "kernelspec": {
      "display_name": "Python 3",
      "name": "python3"
    },
    "language_info": {
      "name": "python"
    }
  },
  "nbformat": 4,
  "nbformat_minor": 0
}